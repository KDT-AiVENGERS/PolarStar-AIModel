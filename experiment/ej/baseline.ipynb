{
 "cells": [
  {
   "attachments": {},
   "cell_type": "markdown",
   "metadata": {},
   "source": [
    "## Importing Modules\n",
    "\n",
    "필요한 모듈을 Import 합니다.\n"
   ]
  },
  {
   "cell_type": "code",
   "execution_count": 2,
   "metadata": {},
   "outputs": [
    {
     "name": "stderr",
     "output_type": "stream",
     "text": [
      "/opt/homebrew/Caskroom/miniconda/base/envs/infra/lib/python3.10/site-packages/tqdm/auto.py:21: TqdmWarning: IProgress not found. Please update jupyter and ipywidgets. See https://ipywidgets.readthedocs.io/en/stable/user_install.html\n",
      "  from .autonotebook import tqdm as notebook_tqdm\n"
     ]
    }
   ],
   "source": [
    "# Modules About Hydra\n",
    "from hydra import initialize, initialize_config_module, initialize_config_dir, compose\n",
    "from hydra.utils import instantiate\n",
    "from omegaconf import DictConfig, OmegaConf\n",
    "\n",
    "# Modules About Torch, Numpy\n",
    "import numpy as np\n",
    "import torch\n",
    "import torch.nn.functional as F\n",
    "import torchmetrics\n",
    "import torchvision\n",
    "from torch import nn\n",
    "from torch.utils.data import TensorDataset, DataLoader, random_split\n",
    "from torchvision import datasets, transforms\n",
    "\n",
    "# Modules About Pytorch Lightning\n",
    "import pytorch_lightning as pl\n",
    "from pytorch_lightning import LightningModule, LightningDataModule\n",
    "from pytorch_lightning.loggers import TensorBoardLogger, WandbLogger\n",
    "from pytorch_lightning.callbacks import ModelCheckpoint, EarlyStopping, ProgressBar\n",
    "\n",
    "# Modules About Pandas, Matplotlib, Numpy\n",
    "import pandas as pd\n",
    "import matplotlib.pyplot as plt\n",
    "import seaborn as sns\n",
    "import numpy as np\n",
    "\n",
    "# Others\n",
    "from PIL import Image\n",
    "from typing import List, Any\n",
    "import sys\n",
    "import traceback\n",
    "import yaml\n",
    "import wandb\n",
    "import warnings\n",
    "warnings.filterwarnings(\"ignore\", category=UserWarning)\n"
   ]
  },
  {
   "attachments": {},
   "cell_type": "markdown",
   "metadata": {},
   "source": [
    "## Configure Dataset\n",
    "\n",
    "Custom Dataset을 구성합니다.\n"
   ]
  },
  {
   "cell_type": "code",
   "execution_count": 3,
   "metadata": {},
   "outputs": [],
   "source": [
    "\n",
    "class MNISTDataModule(pl.LightningDataModule):\n",
    "    def __init__(self, data_dir, batch_size, pred_batch_size, train_ratio, pred_dataset=None):\n",
    "        super().__init__()\n",
    "        self.data_dir = data_dir\n",
    "        self.batch_size = batch_size\n",
    "        self.pred_batch_size = pred_batch_size\n",
    "        self.train_ratio = train_ratio\n",
    "        self.pred_dataset = pred_dataset\n",
    "\n",
    "        # Define Transforms\n",
    "        def repeat_channels(x):\n",
    "            return x.repeat(3, 1, 1)\n",
    "\n",
    "        self.transform = transforms.Compose([\n",
    "            transforms.ToTensor()\n",
    "            # ViT expects 224x224 images\n",
    "            # transforms.Resize((224, 224), antialias=True),\n",
    "            # transforms.Lambda(repeat_channels)  # ViT expects 3 channels\n",
    "        ])\n",
    "\n",
    "    def prepare_data(self):\n",
    "        # Download MNIST Data\n",
    "        datasets.MNIST(\n",
    "            self.data_dir, train=True, download=True)\n",
    "        datasets.MNIST(\n",
    "            self.data_dir, train=False, download=True)\n",
    "\n",
    "    def setup(self, stage=None):\n",
    "        mnist_train = datasets.MNIST(\n",
    "            self.data_dir, train=True, transform=self.transform)\n",
    "        mnist_test = datasets.MNIST(\n",
    "            self.data_dir, train=False, transform=self.transform)\n",
    "\n",
    "        # Split Dataset\n",
    "\n",
    "        self.train_dataset, self.val_dataset = random_split(\n",
    "            mnist_train, list(map(lambda x: int(x * len(mnist_train)), [self.train_ratio, 1-self.train_ratio])))\n",
    "        self.test_dataset = mnist_test\n",
    "\n",
    "    # def _collate_fn(self, samples):\n",
    "    #     이 함수를 사용할 경우\n",
    "    #     DataLoader에 인자로 collate_fn=_collate_fn 를 추가해야합니다.\n",
    "    #     pass\n",
    "\n",
    "    def train_dataloader(self):\n",
    "        return DataLoader(self.train_dataset, batch_size=self.batch_size)\n",
    "\n",
    "    def val_dataloader(self):\n",
    "        return DataLoader(self.val_dataset, batch_size=self.batch_size)\n",
    "\n",
    "    def test_dataloader(self):\n",
    "        return DataLoader(self.test_dataset, batch_size=self.batch_size)\n",
    "\n",
    "    def predict_dataloader(self):\n",
    "        return DataLoader(self.pred_dataset, batch_size=self.pred_batch_size)\n",
    "\n",
    "    def predict_instantly(self, x: List[Any], y: List[int]):\n",
    "        to_tensor = torchvision.transforms.ToTensor()\n",
    "        tensor_x = torch.stack([to_tensor(item) for item in x])\n",
    "        tensor_y = torch.tensor(y)\n",
    "\n",
    "        return tensor_x, tensor_y\n"
   ]
  },
  {
   "attachments": {},
   "cell_type": "markdown",
   "metadata": {},
   "source": [
    "## Design Model\n",
    "\n",
    "Model 구조를 정의합니다.\n"
   ]
  },
  {
   "cell_type": "code",
   "execution_count": 4,
   "metadata": {},
   "outputs": [],
   "source": [
    "class CNNModel(pl.LightningModule):\n",
    "    def __init__(self, type):\n",
    "        super().__init__()\n",
    "        self.type = type\n",
    "        self.save_hyperparameters(\"type\")\n",
    "\n",
    "        self.model_list = {\"small\": (32, 64), \"large\": (64, 128)}\n",
    "        self.id2label = {i: i for i in range(10)}\n",
    "        self.label2id = {i: i for i in range(10)}\n",
    "        self.loss_func = nn.CrossEntropyLoss()\n",
    "        self.model = nn.Sequential(\n",
    "            # Convolutional layer 1\n",
    "            nn.Conv2d(1, self.model_list[self.type][0],\n",
    "                      kernel_size=3, stride=1, padding=1),\n",
    "            nn.ReLU(),\n",
    "            nn.MaxPool2d(kernel_size=2, stride=2),\n",
    "\n",
    "            # Convolutional layer 2\n",
    "            nn.Conv2d(self.model_list[self.type][0], self.model_list[self.type]\n",
    "                      [1], kernel_size=3, stride=1, padding=1),\n",
    "            nn.ReLU(),\n",
    "            nn.MaxPool2d(kernel_size=2, stride=2),\n",
    "\n",
    "            # Fully connected layers\n",
    "            nn.Flatten(),\n",
    "\n",
    "            nn.Linear(self.model_list[self.type][1] * 7 * 7, 128),\n",
    "            nn.ReLU(),\n",
    "\n",
    "            nn.Linear(128, 64),\n",
    "            nn.ReLU(),\n",
    "\n",
    "            nn.Linear(64, 10),  # assuming output has 10 classes\n",
    "        )\n",
    "\n",
    "    def forward(self, x, y):\n",
    "        logits = self.model(x)\n",
    "        loss = self.loss_func(logits, y)\n",
    "        return loss, logits\n"
   ]
  },
  {
   "attachments": {},
   "cell_type": "markdown",
   "metadata": {},
   "source": [
    "## Task Model\n",
    "\n",
    "Task 구조를 정의합니다.\n"
   ]
  },
  {
   "cell_type": "code",
   "execution_count": 5,
   "metadata": {},
   "outputs": [],
   "source": [
    "class ClassificationTask(pl.LightningModule):\n",
    "    def __init__(self, model, num_classes, optimizer, lr_scheduler=None):\n",
    "        super().__init__()\n",
    "        self.model = model\n",
    "        self.num_classes = num_classes\n",
    "        self.optimizer = optimizer\n",
    "        self.lr_scheduler = lr_scheduler\n",
    "        self.training_step_outputs = []\n",
    "        self.validation_step_outputs = []\n",
    "        self.save_hyperparameters(\"num_classes\", \"optimizer\", \"lr_scheduler\")\n",
    "\n",
    "    def forward(self, x, y):\n",
    "        x, y = x.to(self.device), y.to(self.device)\n",
    "        loss, logits = self.model(x, y)\n",
    "        return loss, logits\n",
    "\n",
    "    def training_step(self, batch, batch_idx):\n",
    "        loss, acc = self._shared_step(batch)\n",
    "        metrics = {\"train_acc\": acc, \"train_loss\": loss}\n",
    "        self.training_step_outputs.append(metrics)\n",
    "        self.log_dict(metrics, prog_bar=True)\n",
    "        return loss\n",
    "\n",
    "    # def on_train_epoch_end(self):\n",
    "    #     pass\n",
    "\n",
    "    def validation_step(self, batch, batch_idx):\n",
    "        loss, acc = self._shared_step(batch)\n",
    "        metrics = {\"val_acc\": acc, \"val_loss\": loss}\n",
    "        self.validation_step_outputs.append(metrics)\n",
    "        self.log_dict(metrics)\n",
    "\n",
    "    def on_validation_epoch_end(self):\n",
    "        if self.training_step_outputs:\n",
    "            train_avg_loss = torch.stack([x[\"train_loss\"]\n",
    "                                          for x in self.training_step_outputs]).mean()\n",
    "            train_avg_acc = torch.stack([x[\"train_acc\"]\n",
    "                                        for x in self.training_step_outputs]).mean()\n",
    "            metrics = {\"train_avg_acc\": train_avg_acc,\n",
    "                       \"train_avg_loss\": train_avg_loss}\n",
    "            self.log_dict(metrics)\n",
    "        else:\n",
    "            return\n",
    "        if self.validation_step_outputs:\n",
    "            val_avg_loss = torch.stack([x[\"val_loss\"]\n",
    "                                        for x in self.validation_step_outputs]).mean()\n",
    "            val_avg_acc = torch.stack([x[\"val_acc\"]\n",
    "                                       for x in self.validation_step_outputs]).mean()\n",
    "            metrics = {\"val_avg_acc\": val_avg_acc,\n",
    "                       \"val_avg_loss\": val_avg_loss}\n",
    "            self.log_dict(metrics)\n",
    "        else:\n",
    "            return\n",
    "        print(\"\\n\" +\n",
    "              (f'Epoch {self.current_epoch}, Avg. Training Loss: {train_avg_loss:.3f}, Avg. Training Accuracy: {train_avg_acc:.3f} ' +\n",
    "               f'Avg. Validation Loss: {val_avg_loss:.3f}, Avg. Validation Accuracy: {val_avg_acc:.3f}'), flush=True)\n",
    "        self.training_step_outputs.clear()\n",
    "        self.validation_step_outputs.clear()\n",
    "\n",
    "    def test_step(self, batch, batch_idx):\n",
    "        loss, acc = self._shared_step(batch)\n",
    "        metrics = {\"test_acc\": acc, \"test_loss\": loss}\n",
    "        self.log_dict(metrics, prog_bar=True)\n",
    "\n",
    "    def _shared_step(self, batch):\n",
    "        x, y = batch\n",
    "        loss, logits = self.model(x, y)\n",
    "        acc_fn = torchmetrics.classification.MulticlassAccuracy(\n",
    "            num_classes=self.num_classes).to(self.device)\n",
    "        acc = acc_fn(logits, y)\n",
    "        return loss, acc\n",
    "\n",
    "    def predict_step(self, batch, batch_idx, dataloader_idx=0):\n",
    "        x, y = batch\n",
    "        loss, logits = self.model(x, y)\n",
    "        return loss, logits\n",
    "\n",
    "    def configure_optimizers(self):\n",
    "        optimizer = self.optimizer\n",
    "        if self.lr_scheduler is not None:\n",
    "            return [optimizer], [self.lr_scheduler]\n",
    "        else:\n",
    "            return optimizer\n",
    "\n",
    "        # return torch.optim.AdamW(self.model.parameters(), lr=2e-5)"
   ]
  },
  {
   "cell_type": "code",
   "execution_count": 6,
   "metadata": {},
   "outputs": [
    {
     "name": "stdout",
     "output_type": "stream",
     "text": [
      "⭐️\n"
     ]
    }
   ],
   "source": [
    "with initialize(version_base=None, config_path=\"./\"):\n",
    "    cfg = compose(config_name=\"config.yaml\")\n",
    "if \"batch_size\" in cfg.data:\n",
    "    print(\"⭐️\")\n",
    "else:\n",
    "    print(\"🔥\")"
   ]
  },
  {
   "attachments": {},
   "cell_type": "markdown",
   "metadata": {},
   "source": [
    "## Model Training\n",
    "\n",
    "Model Training을 수행합니다.\n"
   ]
  },
  {
   "cell_type": "code",
   "execution_count": null,
   "metadata": {},
   "outputs": [
    {
     "name": "stderr",
     "output_type": "stream",
     "text": [
      "Failed to detect the name of this notebook, you can set it manually with the WANDB_NOTEBOOK_NAME environment variable to enable code saving.\n"
     ]
    },
    {
     "name": "stdout",
     "output_type": "stream",
     "text": [
      "Create sweep with ID: cup63rjf\n",
      "Sweep URL: https://wandb.ai/suwon-pabby/sweep-test/sweeps/cup63rjf\n"
     ]
    },
    {
     "name": "stderr",
     "output_type": "stream",
     "text": [
      "\u001b[34m\u001b[1mwandb\u001b[0m: Agent Starting Run: 7eej7e49 with config:\n",
      "\u001b[34m\u001b[1mwandb\u001b[0m: \tbatch_size: 128\n",
      "\u001b[34m\u001b[1mwandb\u001b[0m: \ttype: large\n",
      "Failed to detect the name of this notebook, you can set it manually with the WANDB_NOTEBOOK_NAME environment variable to enable code saving.\n",
      "\u001b[34m\u001b[1mwandb\u001b[0m: Currently logged in as: \u001b[33msuwon-pabby\u001b[0m. Use \u001b[1m`wandb login --relogin`\u001b[0m to force relogin\n"
     ]
    },
    {
     "data": {
      "text/html": [
       "wandb version 0.15.6 is available!  To upgrade, please run:\n",
       " $ pip install wandb --upgrade"
      ],
      "text/plain": [
       "<IPython.core.display.HTML object>"
      ]
     },
     "metadata": {},
     "output_type": "display_data"
    },
    {
     "data": {
      "text/html": [
       "Tracking run with wandb version 0.15.5"
      ],
      "text/plain": [
       "<IPython.core.display.HTML object>"
      ]
     },
     "metadata": {},
     "output_type": "display_data"
    },
    {
     "data": {
      "text/html": [
       "Run data is saved locally in <code>/Users/lee/Desktop/이의진/Programmers/finalProject/AIInfra/baselines/wandb/run-20230725_105948-7eej7e49</code>"
      ],
      "text/plain": [
       "<IPython.core.display.HTML object>"
      ]
     },
     "metadata": {},
     "output_type": "display_data"
    },
    {
     "data": {
      "text/html": [
       "Syncing run <strong><a href='https://wandb.ai/suwon-pabby/sweep-test/runs/7eej7e49' target=\"_blank\">v15_s0</a></strong> to <a href='https://wandb.ai/suwon-pabby/sweep-test' target=\"_blank\">Weights & Biases</a> (<a href='https://wandb.me/run' target=\"_blank\">docs</a>)<br/>Sweep page: <a href='https://wandb.ai/suwon-pabby/sweep-test/sweeps/cup63rjf' target=\"_blank\">https://wandb.ai/suwon-pabby/sweep-test/sweeps/cup63rjf</a>"
      ],
      "text/plain": [
       "<IPython.core.display.HTML object>"
      ]
     },
     "metadata": {},
     "output_type": "display_data"
    },
    {
     "data": {
      "text/html": [
       " View project at <a href='https://wandb.ai/suwon-pabby/sweep-test' target=\"_blank\">https://wandb.ai/suwon-pabby/sweep-test</a>"
      ],
      "text/plain": [
       "<IPython.core.display.HTML object>"
      ]
     },
     "metadata": {},
     "output_type": "display_data"
    },
    {
     "data": {
      "text/html": [
       " View sweep at <a href='https://wandb.ai/suwon-pabby/sweep-test/sweeps/cup63rjf' target=\"_blank\">https://wandb.ai/suwon-pabby/sweep-test/sweeps/cup63rjf</a>"
      ],
      "text/plain": [
       "<IPython.core.display.HTML object>"
      ]
     },
     "metadata": {},
     "output_type": "display_data"
    },
    {
     "data": {
      "text/html": [
       " View run at <a href='https://wandb.ai/suwon-pabby/sweep-test/runs/7eej7e49' target=\"_blank\">https://wandb.ai/suwon-pabby/sweep-test/runs/7eej7e49</a>"
      ],
      "text/plain": [
       "<IPython.core.display.HTML object>"
      ]
     },
     "metadata": {},
     "output_type": "display_data"
    },
    {
     "name": "stderr",
     "output_type": "stream",
     "text": [
      "GPU available: True (mps), used: True\n",
      "TPU available: False, using: 0 TPU cores\n",
      "IPU available: False, using: 0 IPUs\n",
      "HPU available: False, using: 0 HPUs\n",
      "\n",
      "  | Name  | Type     | Params\n",
      "-----------------------------------\n",
      "0 | model | CNNModel | 886 K \n",
      "-----------------------------------\n",
      "886 K     Trainable params\n",
      "0         Non-trainable params\n",
      "886 K     Total params\n",
      "3.545     Total estimated model params size (MB)\n"
     ]
    },
    {
     "name": "stdout",
     "output_type": "stream",
     "text": [
      "Epoch 0: 100%|██████████| 282/282 [00:10<00:00, 25.77it/s, v_num=7e49, train_acc=0.618, train_loss=1.360]"
     ]
    },
    {
     "name": "stderr",
     "output_type": "stream",
     "text": [
      "\u001b[34m\u001b[1mwandb\u001b[0m: Ctrl + C detected. Stopping sweep.\n"
     ]
    },
    {
     "name": "stdout",
     "output_type": "stream",
     "text": [
      "\n",
      "Epoch 0, Avg. Training Loss: 1.884, Avg. Training Accuracy: 0.531 Avg. Validation Loss: 1.187, Avg. Validation Accuracy: 0.733\n",
      "Epoch 1:  42%|████▏     | 118/282 [00:04<00:06, 24.50it/s, v_num=7e49, train_acc=0.768, train_loss=0.786]"
     ]
    }
   ],
   "source": [
    "def generate_train_func(cfg):\n",
    "    def find_key(cfg, query, new_value):\n",
    "        for key, value in cfg.items():\n",
    "            if key == query:\n",
    "                cfg[key] = new_value\n",
    "                return True\n",
    "            elif isinstance(value, DictConfig):\n",
    "                if find_key(value, query, new_value):\n",
    "                    return True\n",
    "        return False\n",
    "\n",
    "    def train():\n",
    "        try:\n",
    "            # Set Constant\n",
    "            CHECKPOINT_PATH = \"./checkpoints\"\n",
    "            CONFIGS_PATH = \"./configs\"\n",
    "\n",
    "            # Get Global Version Info\n",
    "            with open(\"global.yaml\", \"r\") as f:\n",
    "                global_data = yaml.safe_load(f)\n",
    "            version_count = global_data[\"next_version_count\"]\n",
    "            sweep_count = global_data[\"next_sweep_count\"]\n",
    "\n",
    "            # Initalize Wandb\n",
    "            if \"name\" in cfg.train:\n",
    "                name = cfg.train.name + f\"_s{sweep_count}\"\n",
    "            else:\n",
    "                name = f\"v{version_count}_s{sweep_count}\"\n",
    "            wandb.init(name=name)\n",
    "\n",
    "            # Get config.yaml file\n",
    "            with open(\"config.yaml\", \"r\") as f:\n",
    "                cfg_data = yaml.safe_load(f)\n",
    "\n",
    "            # Save Version Config Info On Configs Folder\n",
    "            if sweep_count == 0:\n",
    "                with open(f\"{CONFIGS_PATH}/version_{version_count}_config.yaml\",\n",
    "                          \"w\") as f:\n",
    "                    yaml.dump(cfg_data, f)\n",
    "\n",
    "            # Set Sweeping Setting\n",
    "            for key, item in wandb.config.items():\n",
    "                if not find_key(cfg, key, item):\n",
    "                    print(\n",
    "                        f\"key: {key} in your sweeping configuration was not found in your configuration\")\n",
    "\n",
    "            # Load Data Module\n",
    "            data_module = MNISTDataModule(\n",
    "                **cfg.data)\n",
    "\n",
    "            # Load Training Configuration\n",
    "            models = [instantiate(cfg.models[model])\n",
    "                      for model in dir(cfg.models)]\n",
    "\n",
    "            # Add Callbacks\n",
    "            cfg_callbacks = cfg.train.callbacks\n",
    "            callbacks = []\n",
    "            checkpoint_callback = ModelCheckpoint(**cfg_callbacks.checkpoint_callback,\n",
    "                                                  dirpath=f\"{CHECKPOINT_PATH}/v{version_count}_s{sweep_count}/\"\n",
    "                                                  )\n",
    "            callbacks.append(checkpoint_callback)\n",
    "\n",
    "            early_stop_callback = EarlyStopping(\n",
    "                **cfg_callbacks.early_stop_callback)\n",
    "            callbacks.append(early_stop_callback)\n",
    "\n",
    "            # Set Logger\n",
    "            logger = instantiate(\n",
    "                cfg.train.logger, name=f\"version_{version_count}\")\n",
    "\n",
    "            # Train\n",
    "            for model in models:\n",
    "                # Set Optimizer\n",
    "                optimizer = instantiate(\n",
    "                    cfg.task.optimizer, params=model.parameters())\n",
    "\n",
    "                # Set Lr Scheduler If exists\n",
    "                if cfg.task.lr_scheduler.scheduler._target_ is not None:\n",
    "                    lr_scheduler = {}\n",
    "                    lr_scheduler[\"scheduler\"] = instantiate(\n",
    "                        cfg.task.lr_scheduler.scheduler, optimizer=optimizer)\n",
    "                    lr_scheduler[\"interval\"] = cfg.task.lr_scheduler.interval\n",
    "                else:\n",
    "                    lr_scheduler = None\n",
    "\n",
    "                # Define Task\n",
    "                cfg_task = OmegaConf.to_container(cfg.task)\n",
    "                cfg_task.pop(\"optimizer\")\n",
    "                if cfg_task[\"lr_scheduler\"][\"scheduler\"][\"_target_\"] is not None:\n",
    "                    cfg_task.pop(\"lr_scheduler\")\n",
    "                task = ClassificationTask(**cfg_task,\n",
    "                                          model=model, optimizer=optimizer, lr_scheduler=lr_scheduler)\n",
    "\n",
    "                # Train and Test\n",
    "                trainer = pl.Trainer(**cfg.train.trainer,\n",
    "                                     callbacks=callbacks, logger=logger)\n",
    "                trainer.fit(task, data_module)\n",
    "                trainer.test(task, datamodule=data_module)\n",
    "                trainer.save_checkpoint(f\"{CHECKPOINT_PATH}/best_model.ckpt\")\n",
    "\n",
    "            # Save Version Config Info On Checkpoints Folder\n",
    "            with open(f\"{CHECKPOINT_PATH}/v{version_count}_s{sweep_count}/version_config.yaml\",\n",
    "                      \"w\") as f:\n",
    "                yaml.dump(cfg_data, f)\n",
    "\n",
    "            # Set Sweep Info\n",
    "            global_data[\"next_sweep_count\"] += 1\n",
    "            with open(\"global.yaml\", \"w\") as f:\n",
    "                yaml.dump(global_data, f)\n",
    "\n",
    "            # Finish wandb\n",
    "            if cfg.train.logger._target_ == \"pytorch_lightning.loggers.WandbLogger\":\n",
    "                wandb.finish()\n",
    "        except Exception:\n",
    "            # Finish wandb\n",
    "            if cfg.train.logger._target_ == \"pytorch_lightning.loggers.WandbLogger\":\n",
    "                wandb.finish()\n",
    "\n",
    "            print(\"An error occurred:\")\n",
    "            print(traceback.format_exc())\n",
    "            return\n",
    "    return train\n",
    "\n",
    "\n",
    "# Load Configuration Object\n",
    "with initialize(version_base=None, config_path=\"./\"):\n",
    "    cfg = compose(config_name=\"config.yaml\")\n",
    "\n",
    "# Get Sweep ID\n",
    "sweep_id = wandb.sweep(OmegaConf.to_container(\n",
    "    cfg.sweep), project=\"sweep-test\")\n",
    "\n",
    "# Apply Sweeping\n",
    "wandb.agent(sweep_id, function=generate_train_func(cfg))\n",
    "\n",
    "# Update Version / Sweep Info\n",
    "with open(\"global.yaml\", \"r\") as f:\n",
    "    global_data = yaml.safe_load(f)\n",
    "global_data[\"next_version_count\"] += 1\n",
    "global_data[\"next_sweep_count\"] = 0\n",
    "with open(\"global.yaml\", \"w\") as f:\n",
    "    yaml.dump(global_data, f)\n"
   ]
  },
  {
   "cell_type": "code",
   "execution_count": null,
   "metadata": {},
   "outputs": [],
   "source": []
  },
  {
   "cell_type": "code",
   "execution_count": null,
   "metadata": {},
   "outputs": [],
   "source": [
    "wandb.finish()"
   ]
  },
  {
   "cell_type": "code",
   "execution_count": null,
   "metadata": {},
   "outputs": [],
   "source": [
    "# # 만일 이전 결과에서 Epoch을 이어서 실행하고 싶다면?\n",
    "# model = CNNModel(config=config)  # 기존에 학습 때 사용한 모델\n",
    "# task = ClassificationTask.load_from_checkpoint(\n",
    "#     \"test_checkpoints/checkpoints/last.ckpt\", model=model)  # 기존 최신 모델에서 체크포인트를 가져옴\n",
    "# trainer = pl.Trainer(max_epochs=30, callbacks=callbacks)\n",
    "# trainer.fit(task, data_module)\n"
   ]
  },
  {
   "attachments": {},
   "cell_type": "markdown",
   "metadata": {},
   "source": [
    "## Model Prediction\n",
    "\n",
    "직접 Model Prediction을 수행하여 모델이 제대로 동작하는지 검증합니다.\n"
   ]
  },
  {
   "cell_type": "code",
   "execution_count": null,
   "metadata": {},
   "outputs": [],
   "source": [
    "data_module = MNISTDataModule()\n",
    "# MNIST 테스트 데이터셋 로드\n",
    "predict_dataset = datasets.MNIST(\n",
    "    root='./', train=False, download=True)\n",
    "\n",
    "# 랜덤 이미지 선택\n",
    "random_idx = torch.randint(len(predict_dataset), size=(1,)).item()\n",
    "image, true_label = predict_dataset[random_idx]\n",
    "\n",
    "# 이미지 확인 (optional)\n",
    "transform = torchvision.transforms.ToTensor()\n",
    "image_tensor = transform(image)\n",
    "plt.imshow(image_tensor[0].squeeze(), cmap='gray')\n",
    "plt.show()\n",
    "\n",
    "\n",
    "# 모델 생성 및 학습된 가중치 로드\n",
    "model_config = {}\n",
    "model = ClassificationTask.load_from_checkpoint(\n",
    "    \"test_checkpoints/best_model.ckpt\", model=CNNModel(config=model_config))\n",
    "\n",
    "model.eval()\n",
    "with torch.no_grad():\n",
    "    x, y = data_module.predict_instantly([image], [true_label])\n",
    "    loss, logits = model(x, y)\n",
    "\n",
    "# Predict Data를 원하는 DataLoader로 직접 만들어서 predict를 수행하고자 할 경우\n",
    "# data_module.predicted_dataloader_attr = your_dataloader\n",
    "# trainer = pl.Trainer()\n",
    "# loss, logits = trainer.predict(model, datamodule=data_module)\n",
    "\n",
    "\n",
    "# 가장 높은 확률을 가진 클래스 예측\n",
    "_, predicted_class = torch.max(logits, dim=1)\n",
    "\n",
    "print(f'True label: {true_label}, Predicted label: {predicted_class.item()}')"
   ]
  }
 ],
 "metadata": {
  "kernelspec": {
   "display_name": "jobVS_infra_test",
   "language": "python",
   "name": "python3"
  },
  "language_info": {
   "codemirror_mode": {
    "name": "ipython",
    "version": 3
   },
   "file_extension": ".py",
   "mimetype": "text/x-python",
   "name": "python",
   "nbconvert_exporter": "python",
   "pygments_lexer": "ipython3",
   "version": "3.10.12"
  },
  "orig_nbformat": 4
 },
 "nbformat": 4,
 "nbformat_minor": 2
}
